{
  "nbformat": 4,
  "nbformat_minor": 0,
  "metadata": {
    "kernelspec": {
      "display_name": "Python 3",
      "language": "python",
      "name": "python3"
    },
    "language_info": {
      "codemirror_mode": {
        "name": "ipython",
        "version": 3
      },
      "file_extension": ".py",
      "mimetype": "text/x-python",
      "name": "python",
      "nbconvert_exporter": "python",
      "pygments_lexer": "ipython3",
      "version": "3.8.5"
    },
    "colab": {
      "name": "LAB_1.ipynb",
      "provenance": [],
      "include_colab_link": true
    }
  },
  "cells": [
    {
      "cell_type": "markdown",
      "metadata": {
        "id": "view-in-github",
        "colab_type": "text"
      },
      "source": [
        "<a href=\"https://colab.research.google.com/github/subhamgupta28/DMDW_LAB_5TH_SEM/blob/main/LAB_1.ipynb\" target=\"_parent\"><img src=\"https://colab.research.google.com/assets/colab-badge.svg\" alt=\"Open In Colab\"/></a>"
      ]
    },
    {
      "cell_type": "markdown",
      "metadata": {
        "id": "swAtaXxDSa4H"
      },
      "source": [
        "# Question-1"
      ]
    },
    {
      "cell_type": "markdown",
      "metadata": {
        "id": "mCE5ZI7GSa4X"
      },
      "source": [
        "## Create a list in python . Next find mean and median of the list without using any builtin library functions¶"
      ]
    },
    {
      "cell_type": "markdown",
      "metadata": {
        "id": "C8lRNDUZSa4b"
      },
      "source": [
        "# Mean"
      ]
    },
    {
      "cell_type": "code",
      "metadata": {
        "id": "Oa5XzBeSSa4d",
        "outputId": "a6f81c28-ffec-4821-e5f7-30765e2b5c6b"
      },
      "source": [
        "\n",
        "l=[12,35,18,9,56,24]\n",
        "mean=sum(l)/len(l)\n",
        "print(\"The mean of list l is \",mean)"
      ],
      "execution_count": null,
      "outputs": [
        {
          "name": "stdout",
          "output_type": "stream",
          "text": [
            "The mean of list l is  25.666666666666668\n"
          ]
        }
      ]
    },
    {
      "cell_type": "markdown",
      "metadata": {
        "id": "uh7UAwfkSa4l"
      },
      "source": [
        "# Median"
      ]
    },
    {
      "cell_type": "code",
      "metadata": {
        "id": "HtN2LpYdSa4n",
        "outputId": "77fec1cc-97b8-4525-f175-036a4f8e868b"
      },
      "source": [
        "n=len(l)\n",
        "l.sort()\n",
        "if(n%2==0):\n",
        "    median=(l[n//2]+l[n//2-1])/2\n",
        "    print(\"The median is \",median)\n",
        "else:\n",
        "    median=l[n//2]\n",
        "    print(\"The median is \",median)"
      ],
      "execution_count": null,
      "outputs": [
        {
          "name": "stdout",
          "output_type": "stream",
          "text": [
            "The median is  21.0\n"
          ]
        }
      ]
    },
    {
      "cell_type": "markdown",
      "metadata": {
        "id": "MaEi-RhdSa4p"
      },
      "source": [
        "# 2. Create list inj python. Next find the mode of the list without using any builtin library function¶\n"
      ]
    },
    {
      "cell_type": "code",
      "metadata": {
        "id": "Y-RhtlWZSa4s",
        "outputId": "61784e1b-5beb-4c06-a896-67834502f375"
      },
      "source": [
        "list1=[2,3,1,1,6,2,1,5]\n",
        "list1.sort()\n",
        "list2 = []\n",
        "res = []\n",
        "for i in list1:\n",
        "    list2.append(list1.count(i))\n",
        "dic = dict(zip(list1,list2))\n",
        "for k,v in dic.items():\n",
        "    if v == max(list2):\n",
        "        res.append(k)\n",
        "print(\"Mode is: \",res)"
      ],
      "execution_count": null,
      "outputs": [
        {
          "name": "stdout",
          "output_type": "stream",
          "text": [
            "Mode is:  [1]\n"
          ]
        }
      ]
    },
    {
      "cell_type": "markdown",
      "metadata": {
        "id": "L3FnGbZkSa4v"
      },
      "source": [
        "# 3. Create a list in python. Next find the second smallest number and second highest number in the list."
      ]
    },
    {
      "cell_type": "code",
      "metadata": {
        "id": "dA37Ao4fSa4z"
      },
      "source": [
        "l=[12,35,18,9,56,24]"
      ],
      "execution_count": null,
      "outputs": []
    },
    {
      "cell_type": "code",
      "metadata": {
        "id": "tQhTARr6Sa41",
        "outputId": "30de7bcc-78ab-48c5-8f98-b99967bba60f"
      },
      "source": [
        "l.sort()\n",
        "print(\"The second largest number is : \",l[len(l)-2])\n",
        "print(\"The second smallest number is : \",l[1])"
      ],
      "execution_count": null,
      "outputs": [
        {
          "name": "stdout",
          "output_type": "stream",
          "text": [
            "The second largest number is :  35\n",
            "The second smallest number is :  12\n"
          ]
        }
      ]
    },
    {
      "cell_type": "code",
      "metadata": {
        "id": "pLuMVdZuSa42"
      },
      "source": [
        ""
      ],
      "execution_count": null,
      "outputs": []
    }
  ]
}