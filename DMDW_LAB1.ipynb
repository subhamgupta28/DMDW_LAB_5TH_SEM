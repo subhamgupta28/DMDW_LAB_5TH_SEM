{
  "nbformat": 4,
  "nbformat_minor": 0,
  "metadata": {
    "colab": {
      "name": "DMDW_LAB1.ipynb",
      "provenance": [],
      "collapsed_sections": [],
      "authorship_tag": "ABX9TyNDGdI025XupErtXO73V9D9",
      "include_colab_link": true
    },
    "kernelspec": {
      "name": "python3",
      "display_name": "Python 3"
    },
    "language_info": {
      "name": "python"
    }
  },
  "cells": [
    {
      "cell_type": "markdown",
      "metadata": {
        "id": "view-in-github",
        "colab_type": "text"
      },
      "source": [
        "<a href=\"https://colab.research.google.com/github/subhamgupta28/DMDW_LAB_5TH_SEM/blob/main/DMDW_LAB1.ipynb\" target=\"_parent\"><img src=\"https://colab.research.google.com/assets/colab-badge.svg\" alt=\"Open In Colab\"/></a>"
      ]
    },
    {
      "cell_type": "markdown",
      "metadata": {
        "id": "hAU-h2whukcw"
      },
      "source": [
        "**Q1. Find Mean, Median of a list.**"
      ]
    },
    {
      "cell_type": "code",
      "metadata": {
        "colab": {
          "base_uri": "https://localhost:8080/"
        },
        "id": "PnT33g4wsMDr",
        "outputId": "c15b2280-e9a4-4031-e545-264a3fbece52"
      },
      "source": [
        "l = list(map(int, input().split()))\n",
        "h = 0\n",
        "for i in l:\n",
        "    h+=i\n",
        "print('Mean ==>',h/len(l))\n",
        "\n",
        "l.sort()\n",
        "n = len(l)\n",
        "if len(l) % 2 == 0:\n",
        "    print('Median ==>',(l[n//2]+l[n//2-1])/2)\n",
        "else:\n",
        "    print('Median ==>',(l[n//2]))\n",
        "\n"
      ],
      "execution_count": null,
      "outputs": [
        {
          "output_type": "stream",
          "name": "stdout",
          "text": [
            "1 2 3 4 5 6 7 8 9 0\n",
            "Mean ==> 4.5\n",
            "Median ==> 4.5\n"
          ]
        }
      ]
    },
    {
      "cell_type": "markdown",
      "metadata": {
        "id": "S6BUrQjI0K0t"
      },
      "source": [
        "**Q2. Find Mode of list**"
      ]
    },
    {
      "cell_type": "code",
      "metadata": {
        "colab": {
          "base_uri": "https://localhost:8080/"
        },
        "id": "g3pam-4P0BwJ",
        "outputId": "32ee1cbb-3cc3-468e-d278-f4037cd669f1"
      },
      "source": [
        "l = list(map(int, input().split()))\n",
        "dic = {}\n",
        "for i in l:\n",
        "    if dic.get(i):\n",
        "        dic[i]+=1\n",
        "    else:\n",
        "        dic[i]=1\n",
        "mx=0\n",
        "ans=-1\n",
        "an=0\n",
        "for i in dic:\n",
        "    mx=dic[i]\n",
        "    if mx>ans:\n",
        "        ans=mx\n",
        "        an=i\n",
        "print('Mode ==>',an)"
      ],
      "execution_count": null,
      "outputs": [
        {
          "output_type": "stream",
          "name": "stdout",
          "text": [
            "1 2 3 4 5 6 6 5 4 3 2 1\n",
            "Mode ==> 1\n"
          ]
        }
      ]
    },
    {
      "cell_type": "markdown",
      "metadata": {
        "id": "oJXV4_7dxsoz"
      },
      "source": [
        "**Q3. Find second largest and smallest element in the list**"
      ]
    },
    {
      "cell_type": "code",
      "metadata": {
        "colab": {
          "base_uri": "https://localhost:8080/"
        },
        "id": "vO0ZzKt3xrku",
        "outputId": "7be31ae2-99f8-4bdf-c4ab-50752f1098a8"
      },
      "source": [
        "arr = list(map(int, input().split()))\n",
        "sl = arr[0]\n",
        "la = arr[0]\n",
        "lo = arr[0]\n",
        "ss = arr[0]\n",
        "for i in range(len(arr)):\n",
        "    if arr[i] > la:\n",
        "        la = arr[i]\n",
        "    if arr[i] < lo:\n",
        "        lo = arr[i]\n",
        "print(lo, la)    \n",
        " \n",
        "for i in range(len(arr)):\n",
        "    if arr[i] > sl and arr[i] != la:\n",
        "        sl = arr[i]\n",
        "    if arr[i] < ss and arr[i] != lo:\n",
        "        ss = arr[i]\n",
        "print('2nd Highest ==>', sl)\n",
        "print('2nd Lowest ==>', ss)"
      ],
      "execution_count": null,
      "outputs": [
        {
          "output_type": "stream",
          "name": "stdout",
          "text": [
            "1 2 3 4 5 6 \n",
            "1 6\n",
            "2nd Highest ==> 5\n",
            "2nd Lowest ==> 1\n"
          ]
        }
      ]
    },
    {
      "cell_type": "code",
      "metadata": {
        "id": "9jvogIBD8UZD"
      },
      "source": [
        "l = list(map(int, input().split()))\n"
      ],
      "execution_count": null,
      "outputs": []
    }
  ]
}